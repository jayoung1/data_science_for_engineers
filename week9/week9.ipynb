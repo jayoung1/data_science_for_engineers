{
 "cells": [
  {
   "cell_type": "code",
   "execution_count": 1,
   "metadata": {},
   "outputs": [],
   "source": [
    "import pandas as pd\n",
    "import seaborn as sns\n",
    "import numpy as np\n",
    "import matplotlib.pyplot as plt\n",
    "%matplotlib inline"
   ]
  },
  {
   "cell_type": "code",
   "execution_count": 2,
   "metadata": {},
   "outputs": [],
   "source": [
    "df = pd.read_csv(\"concrete_data.csv\")"
   ]
  },
  {
   "cell_type": "code",
   "execution_count": 3,
   "metadata": {},
   "outputs": [
    {
     "data": {
      "text/plain": [
       "(1030, 9)"
      ]
     },
     "execution_count": 3,
     "metadata": {},
     "output_type": "execute_result"
    }
   ],
   "source": [
    "df.shape"
   ]
  },
  {
   "cell_type": "code",
   "execution_count": 4,
   "metadata": {},
   "outputs": [
    {
     "data": {
      "text/html": [
       "<div>\n",
       "<style scoped>\n",
       "    .dataframe tbody tr th:only-of-type {\n",
       "        vertical-align: middle;\n",
       "    }\n",
       "\n",
       "    .dataframe tbody tr th {\n",
       "        vertical-align: top;\n",
       "    }\n",
       "\n",
       "    .dataframe thead th {\n",
       "        text-align: right;\n",
       "    }\n",
       "</style>\n",
       "<table border=\"1\" class=\"dataframe\">\n",
       "  <thead>\n",
       "    <tr style=\"text-align: right;\">\n",
       "      <th></th>\n",
       "      <th>cement</th>\n",
       "      <th>blast_furnace_slag</th>\n",
       "      <th>fly_ash</th>\n",
       "      <th>water</th>\n",
       "      <th>superplasticizer</th>\n",
       "      <th>coarse_aggregate</th>\n",
       "      <th>fine_aggregate</th>\n",
       "      <th>age</th>\n",
       "      <th>concrete_compressive_strength</th>\n",
       "    </tr>\n",
       "  </thead>\n",
       "  <tbody>\n",
       "    <tr>\n",
       "      <th>0</th>\n",
       "      <td>540.0</td>\n",
       "      <td>0.0</td>\n",
       "      <td>0.0</td>\n",
       "      <td>162.0</td>\n",
       "      <td>2.5</td>\n",
       "      <td>1040.0</td>\n",
       "      <td>676.0</td>\n",
       "      <td>28</td>\n",
       "      <td>79.99</td>\n",
       "    </tr>\n",
       "    <tr>\n",
       "      <th>1</th>\n",
       "      <td>540.0</td>\n",
       "      <td>0.0</td>\n",
       "      <td>0.0</td>\n",
       "      <td>162.0</td>\n",
       "      <td>2.5</td>\n",
       "      <td>1055.0</td>\n",
       "      <td>676.0</td>\n",
       "      <td>28</td>\n",
       "      <td>61.89</td>\n",
       "    </tr>\n",
       "    <tr>\n",
       "      <th>2</th>\n",
       "      <td>332.5</td>\n",
       "      <td>142.5</td>\n",
       "      <td>0.0</td>\n",
       "      <td>228.0</td>\n",
       "      <td>0.0</td>\n",
       "      <td>932.0</td>\n",
       "      <td>594.0</td>\n",
       "      <td>270</td>\n",
       "      <td>40.27</td>\n",
       "    </tr>\n",
       "    <tr>\n",
       "      <th>3</th>\n",
       "      <td>332.5</td>\n",
       "      <td>142.5</td>\n",
       "      <td>0.0</td>\n",
       "      <td>228.0</td>\n",
       "      <td>0.0</td>\n",
       "      <td>932.0</td>\n",
       "      <td>594.0</td>\n",
       "      <td>365</td>\n",
       "      <td>41.05</td>\n",
       "    </tr>\n",
       "    <tr>\n",
       "      <th>4</th>\n",
       "      <td>198.6</td>\n",
       "      <td>132.4</td>\n",
       "      <td>0.0</td>\n",
       "      <td>192.0</td>\n",
       "      <td>0.0</td>\n",
       "      <td>978.4</td>\n",
       "      <td>825.5</td>\n",
       "      <td>360</td>\n",
       "      <td>44.30</td>\n",
       "    </tr>\n",
       "  </tbody>\n",
       "</table>\n",
       "</div>"
      ],
      "text/plain": [
       "   cement  blast_furnace_slag  fly_ash  water  superplasticizer  \\\n",
       "0   540.0                 0.0      0.0  162.0               2.5   \n",
       "1   540.0                 0.0      0.0  162.0               2.5   \n",
       "2   332.5               142.5      0.0  228.0               0.0   \n",
       "3   332.5               142.5      0.0  228.0               0.0   \n",
       "4   198.6               132.4      0.0  192.0               0.0   \n",
       "\n",
       "   coarse_aggregate  fine_aggregate   age  concrete_compressive_strength  \n",
       "0            1040.0            676.0   28                          79.99  \n",
       "1            1055.0            676.0   28                          61.89  \n",
       "2             932.0            594.0  270                          40.27  \n",
       "3             932.0            594.0  365                          41.05  \n",
       "4             978.4            825.5  360                          44.30  "
      ]
     },
     "execution_count": 4,
     "metadata": {},
     "output_type": "execute_result"
    }
   ],
   "source": [
    "df.head()"
   ]
  },
  {
   "cell_type": "code",
   "execution_count": 5,
   "metadata": {},
   "outputs": [
    {
     "data": {
      "text/plain": [
       "cement                           0\n",
       "blast_furnace_slag               0\n",
       "fly_ash                          0\n",
       "water                            0\n",
       "superplasticizer                 0\n",
       "coarse_aggregate                 0\n",
       "fine_aggregate                   0\n",
       "age                              0\n",
       "concrete_compressive_strength    0\n",
       "dtype: int64"
      ]
     },
     "execution_count": 5,
     "metadata": {},
     "output_type": "execute_result"
    }
   ],
   "source": [
    "df.isna().sum()"
   ]
  },
  {
   "cell_type": "code",
   "execution_count": 6,
   "metadata": {},
   "outputs": [
    {
     "data": {
      "text/html": [
       "<div>\n",
       "<style scoped>\n",
       "    .dataframe tbody tr th:only-of-type {\n",
       "        vertical-align: middle;\n",
       "    }\n",
       "\n",
       "    .dataframe tbody tr th {\n",
       "        vertical-align: top;\n",
       "    }\n",
       "\n",
       "    .dataframe thead th {\n",
       "        text-align: right;\n",
       "    }\n",
       "</style>\n",
       "<table border=\"1\" class=\"dataframe\">\n",
       "  <thead>\n",
       "    <tr style=\"text-align: right;\">\n",
       "      <th></th>\n",
       "      <th>cement</th>\n",
       "      <th>blast_furnace_slag</th>\n",
       "      <th>fly_ash</th>\n",
       "      <th>water</th>\n",
       "      <th>superplasticizer</th>\n",
       "      <th>coarse_aggregate</th>\n",
       "      <th>fine_aggregate</th>\n",
       "      <th>age</th>\n",
       "      <th>concrete_compressive_strength</th>\n",
       "    </tr>\n",
       "  </thead>\n",
       "  <tbody>\n",
       "    <tr>\n",
       "      <th>count</th>\n",
       "      <td>1030.000000</td>\n",
       "      <td>1030.000000</td>\n",
       "      <td>1030.000000</td>\n",
       "      <td>1030.000000</td>\n",
       "      <td>1030.000000</td>\n",
       "      <td>1030.000000</td>\n",
       "      <td>1030.000000</td>\n",
       "      <td>1030.000000</td>\n",
       "      <td>1030.000000</td>\n",
       "    </tr>\n",
       "    <tr>\n",
       "      <th>mean</th>\n",
       "      <td>281.167864</td>\n",
       "      <td>73.895825</td>\n",
       "      <td>54.188350</td>\n",
       "      <td>181.567282</td>\n",
       "      <td>6.204660</td>\n",
       "      <td>972.918932</td>\n",
       "      <td>773.580485</td>\n",
       "      <td>45.662136</td>\n",
       "      <td>35.817961</td>\n",
       "    </tr>\n",
       "    <tr>\n",
       "      <th>std</th>\n",
       "      <td>104.506364</td>\n",
       "      <td>86.279342</td>\n",
       "      <td>63.997004</td>\n",
       "      <td>21.354219</td>\n",
       "      <td>5.973841</td>\n",
       "      <td>77.753954</td>\n",
       "      <td>80.175980</td>\n",
       "      <td>63.169912</td>\n",
       "      <td>16.705742</td>\n",
       "    </tr>\n",
       "    <tr>\n",
       "      <th>min</th>\n",
       "      <td>102.000000</td>\n",
       "      <td>0.000000</td>\n",
       "      <td>0.000000</td>\n",
       "      <td>121.800000</td>\n",
       "      <td>0.000000</td>\n",
       "      <td>801.000000</td>\n",
       "      <td>594.000000</td>\n",
       "      <td>1.000000</td>\n",
       "      <td>2.330000</td>\n",
       "    </tr>\n",
       "    <tr>\n",
       "      <th>25%</th>\n",
       "      <td>192.375000</td>\n",
       "      <td>0.000000</td>\n",
       "      <td>0.000000</td>\n",
       "      <td>164.900000</td>\n",
       "      <td>0.000000</td>\n",
       "      <td>932.000000</td>\n",
       "      <td>730.950000</td>\n",
       "      <td>7.000000</td>\n",
       "      <td>23.710000</td>\n",
       "    </tr>\n",
       "    <tr>\n",
       "      <th>50%</th>\n",
       "      <td>272.900000</td>\n",
       "      <td>22.000000</td>\n",
       "      <td>0.000000</td>\n",
       "      <td>185.000000</td>\n",
       "      <td>6.400000</td>\n",
       "      <td>968.000000</td>\n",
       "      <td>779.500000</td>\n",
       "      <td>28.000000</td>\n",
       "      <td>34.445000</td>\n",
       "    </tr>\n",
       "    <tr>\n",
       "      <th>75%</th>\n",
       "      <td>350.000000</td>\n",
       "      <td>142.950000</td>\n",
       "      <td>118.300000</td>\n",
       "      <td>192.000000</td>\n",
       "      <td>10.200000</td>\n",
       "      <td>1029.400000</td>\n",
       "      <td>824.000000</td>\n",
       "      <td>56.000000</td>\n",
       "      <td>46.135000</td>\n",
       "    </tr>\n",
       "    <tr>\n",
       "      <th>max</th>\n",
       "      <td>540.000000</td>\n",
       "      <td>359.400000</td>\n",
       "      <td>200.100000</td>\n",
       "      <td>247.000000</td>\n",
       "      <td>32.200000</td>\n",
       "      <td>1145.000000</td>\n",
       "      <td>992.600000</td>\n",
       "      <td>365.000000</td>\n",
       "      <td>82.600000</td>\n",
       "    </tr>\n",
       "  </tbody>\n",
       "</table>\n",
       "</div>"
      ],
      "text/plain": [
       "            cement  blast_furnace_slag      fly_ash        water  \\\n",
       "count  1030.000000         1030.000000  1030.000000  1030.000000   \n",
       "mean    281.167864           73.895825    54.188350   181.567282   \n",
       "std     104.506364           86.279342    63.997004    21.354219   \n",
       "min     102.000000            0.000000     0.000000   121.800000   \n",
       "25%     192.375000            0.000000     0.000000   164.900000   \n",
       "50%     272.900000           22.000000     0.000000   185.000000   \n",
       "75%     350.000000          142.950000   118.300000   192.000000   \n",
       "max     540.000000          359.400000   200.100000   247.000000   \n",
       "\n",
       "       superplasticizer  coarse_aggregate  fine_aggregate           age  \\\n",
       "count       1030.000000       1030.000000      1030.000000  1030.000000   \n",
       "mean           6.204660        972.918932       773.580485    45.662136   \n",
       "std            5.973841         77.753954        80.175980    63.169912   \n",
       "min            0.000000        801.000000       594.000000     1.000000   \n",
       "25%            0.000000        932.000000       730.950000     7.000000   \n",
       "50%            6.400000        968.000000       779.500000    28.000000   \n",
       "75%           10.200000       1029.400000       824.000000    56.000000   \n",
       "max           32.200000       1145.000000       992.600000   365.000000   \n",
       "\n",
       "       concrete_compressive_strength  \n",
       "count                    1030.000000  \n",
       "mean                       35.817961  \n",
       "std                        16.705742  \n",
       "min                         2.330000  \n",
       "25%                        23.710000  \n",
       "50%                        34.445000  \n",
       "75%                        46.135000  \n",
       "max                        82.600000  "
      ]
     },
     "execution_count": 6,
     "metadata": {},
     "output_type": "execute_result"
    }
   ],
   "source": [
    "df.describe()"
   ]
  },
  {
   "cell_type": "code",
   "execution_count": 7,
   "metadata": {},
   "outputs": [
    {
     "data": {
      "text/plain": [
       "[Text(0, 0, 'cement'),\n",
       " Text(1, 0, 'blast_furnace_slag'),\n",
       " Text(2, 0, 'fly_ash'),\n",
       " Text(3, 0, 'water'),\n",
       " Text(4, 0, 'superplasticizer'),\n",
       " Text(5, 0, 'coarse_aggregate'),\n",
       " Text(6, 0, 'fine_aggregate '),\n",
       " Text(7, 0, 'age'),\n",
       " Text(8, 0, 'concrete_compressive_strength')]"
      ]
     },
     "execution_count": 7,
     "metadata": {},
     "output_type": "execute_result"
    },
    {
     "data": {
      "image/png": "[encoded data removed]",
      "text/plain": [
       "<Figure size 432x288 with 1 Axes>"
      ]
     },
     "metadata": {
      "needs_background": "light"
     },
     "output_type": "display_data"
    }
   ],
   "source": [
    "plt.subplots()\n",
    "ax = sns.boxplot(data = df)\n",
    "ax.set_xticklabels(ax.get_xticklabels(), rotation = 60)"
   ]
  },
  {
   "cell_type": "code",
   "execution_count": 8,
   "metadata": {},
   "outputs": [
    {
     "data": {
      "text/html": [
       "<div>\n",
       "<style scoped>\n",
       "    .dataframe tbody tr th:only-of-type {\n",
       "        vertical-align: middle;\n",
       "    }\n",
       "\n",
       "    .dataframe tbody tr th {\n",
       "        vertical-align: top;\n",
       "    }\n",
       "\n",
       "    .dataframe thead th {\n",
       "        text-align: right;\n",
       "    }\n",
       "</style>\n",
       "<table border=\"1\" class=\"dataframe\">\n",
       "  <thead>\n",
       "    <tr style=\"text-align: right;\">\n",
       "      <th></th>\n",
       "      <th>cement</th>\n",
       "      <th>blast_furnace_slag</th>\n",
       "      <th>fly_ash</th>\n",
       "      <th>water</th>\n",
       "      <th>superplasticizer</th>\n",
       "      <th>coarse_aggregate</th>\n",
       "      <th>fine_aggregate</th>\n",
       "      <th>age</th>\n",
       "      <th>concrete_compressive_strength</th>\n",
       "    </tr>\n",
       "  </thead>\n",
       "  <tbody>\n",
       "    <tr>\n",
       "      <th>cement</th>\n",
       "      <td>1.000000</td>\n",
       "      <td>-0.275216</td>\n",
       "      <td>-0.397467</td>\n",
       "      <td>-0.081587</td>\n",
       "      <td>0.092386</td>\n",
       "      <td>-0.109349</td>\n",
       "      <td>-0.222718</td>\n",
       "      <td>0.081946</td>\n",
       "      <td>0.497832</td>\n",
       "    </tr>\n",
       "    <tr>\n",
       "      <th>blast_furnace_slag</th>\n",
       "      <td>-0.275216</td>\n",
       "      <td>1.000000</td>\n",
       "      <td>-0.323580</td>\n",
       "      <td>0.107252</td>\n",
       "      <td>0.043270</td>\n",
       "      <td>-0.283999</td>\n",
       "      <td>-0.281603</td>\n",
       "      <td>-0.044246</td>\n",
       "      <td>0.134829</td>\n",
       "    </tr>\n",
       "    <tr>\n",
       "      <th>fly_ash</th>\n",
       "      <td>-0.397467</td>\n",
       "      <td>-0.323580</td>\n",
       "      <td>1.000000</td>\n",
       "      <td>-0.256984</td>\n",
       "      <td>0.377503</td>\n",
       "      <td>-0.009961</td>\n",
       "      <td>0.079108</td>\n",
       "      <td>-0.154371</td>\n",
       "      <td>-0.105755</td>\n",
       "    </tr>\n",
       "    <tr>\n",
       "      <th>water</th>\n",
       "      <td>-0.081587</td>\n",
       "      <td>0.107252</td>\n",
       "      <td>-0.256984</td>\n",
       "      <td>1.000000</td>\n",
       "      <td>-0.657533</td>\n",
       "      <td>-0.182294</td>\n",
       "      <td>-0.450661</td>\n",
       "      <td>0.277618</td>\n",
       "      <td>-0.289633</td>\n",
       "    </tr>\n",
       "    <tr>\n",
       "      <th>superplasticizer</th>\n",
       "      <td>0.092386</td>\n",
       "      <td>0.043270</td>\n",
       "      <td>0.377503</td>\n",
       "      <td>-0.657533</td>\n",
       "      <td>1.000000</td>\n",
       "      <td>-0.265999</td>\n",
       "      <td>0.222691</td>\n",
       "      <td>-0.192700</td>\n",
       "      <td>0.366079</td>\n",
       "    </tr>\n",
       "    <tr>\n",
       "      <th>coarse_aggregate</th>\n",
       "      <td>-0.109349</td>\n",
       "      <td>-0.283999</td>\n",
       "      <td>-0.009961</td>\n",
       "      <td>-0.182294</td>\n",
       "      <td>-0.265999</td>\n",
       "      <td>1.000000</td>\n",
       "      <td>-0.178481</td>\n",
       "      <td>-0.003016</td>\n",
       "      <td>-0.164935</td>\n",
       "    </tr>\n",
       "    <tr>\n",
       "      <th>fine_aggregate</th>\n",
       "      <td>-0.222718</td>\n",
       "      <td>-0.281603</td>\n",
       "      <td>0.079108</td>\n",
       "      <td>-0.450661</td>\n",
       "      <td>0.222691</td>\n",
       "      <td>-0.178481</td>\n",
       "      <td>1.000000</td>\n",
       "      <td>-0.156095</td>\n",
       "      <td>-0.167241</td>\n",
       "    </tr>\n",
       "    <tr>\n",
       "      <th>age</th>\n",
       "      <td>0.081946</td>\n",
       "      <td>-0.044246</td>\n",
       "      <td>-0.154371</td>\n",
       "      <td>0.277618</td>\n",
       "      <td>-0.192700</td>\n",
       "      <td>-0.003016</td>\n",
       "      <td>-0.156095</td>\n",
       "      <td>1.000000</td>\n",
       "      <td>0.328873</td>\n",
       "    </tr>\n",
       "    <tr>\n",
       "      <th>concrete_compressive_strength</th>\n",
       "      <td>0.497832</td>\n",
       "      <td>0.134829</td>\n",
       "      <td>-0.105755</td>\n",
       "      <td>-0.289633</td>\n",
       "      <td>0.366079</td>\n",
       "      <td>-0.164935</td>\n",
       "      <td>-0.167241</td>\n",
       "      <td>0.328873</td>\n",
       "      <td>1.000000</td>\n",
       "    </tr>\n",
       "  </tbody>\n",
       "</table>\n",
       "</div>"
      ],
      "text/plain": [
       "                                 cement  blast_furnace_slag   fly_ash  \\\n",
       "cement                         1.000000           -0.275216 -0.397467   \n",
       "blast_furnace_slag            -0.275216            1.000000 -0.323580   \n",
       "fly_ash                       -0.397467           -0.323580  1.000000   \n",
       "water                         -0.081587            0.107252 -0.256984   \n",
       "superplasticizer               0.092386            0.043270  0.377503   \n",
       "coarse_aggregate              -0.109349           -0.283999 -0.009961   \n",
       "fine_aggregate                -0.222718           -0.281603  0.079108   \n",
       "age                            0.081946           -0.044246 -0.154371   \n",
       "concrete_compressive_strength  0.497832            0.134829 -0.105755   \n",
       "\n",
       "                                  water  superplasticizer  coarse_aggregate  \\\n",
       "cement                        -0.081587          0.092386         -0.109349   \n",
       "blast_furnace_slag             0.107252          0.043270         -0.283999   \n",
       "fly_ash                       -0.256984          0.377503         -0.009961   \n",
       "water                          1.000000         -0.657533         -0.182294   \n",
       "superplasticizer              -0.657533          1.000000         -0.265999   \n",
       "coarse_aggregate              -0.182294         -0.265999          1.000000   \n",
       "fine_aggregate                -0.450661          0.222691         -0.178481   \n",
       "age                            0.277618         -0.192700         -0.003016   \n",
       "concrete_compressive_strength -0.289633          0.366079         -0.164935   \n",
       "\n",
       "                               fine_aggregate        age  \\\n",
       "cement                               -0.222718  0.081946   \n",
       "blast_furnace_slag                   -0.281603 -0.044246   \n",
       "fly_ash                               0.079108 -0.154371   \n",
       "water                                -0.450661  0.277618   \n",
       "superplasticizer                      0.222691 -0.192700   \n",
       "coarse_aggregate                     -0.178481 -0.003016   \n",
       "fine_aggregate                        1.000000 -0.156095   \n",
       "age                                  -0.156095  1.000000   \n",
       "concrete_compressive_strength        -0.167241  0.328873   \n",
       "\n",
       "                               concrete_compressive_strength  \n",
       "cement                                              0.497832  \n",
       "blast_furnace_slag                                  0.134829  \n",
       "fly_ash                                            -0.105755  \n",
       "water                                              -0.289633  \n",
       "superplasticizer                                    0.366079  \n",
       "coarse_aggregate                                   -0.164935  \n",
       "fine_aggregate                                     -0.167241  \n",
       "age                                                 0.328873  \n",
       "concrete_compressive_strength                       1.000000  "
      ]
     },
     "execution_count": 8,
     "metadata": {},
     "output_type": "execute_result"
    }
   ],
   "source": [
    "df.corr()"
   ]
  },
  {
   "cell_type": "code",
   "execution_count": 9,
   "metadata": {},
   "outputs": [
    {
     "data": {
      "text/plain": [
       "<AxesSubplot:>"
      ]
     },
     "execution_count": 9,
     "metadata": {},
     "output_type": "execute_result"
    },
    {
     "data": {
      "image/png": "[encoded data removed]",
      "text/plain": [
       "<Figure size 432x288 with 2 Axes>"
      ]
     },
     "metadata": {
      "needs_background": "light"
     },
     "output_type": "display_data"
    }
   ],
   "source": [
    "sns.heatmap(data = df.corr(), annot = True)"
   ]
  },
  {
   "cell_type": "code",
   "execution_count": 10,
   "metadata": {},
   "outputs": [],
   "source": [
    "x = df.drop([\"concrete_compressive_strength\"], axis = 1)\n",
    "y = df[\"concrete_compressive_strength\"]"
   ]
  },
  {
   "cell_type": "code",
   "execution_count": 11,
   "metadata": {},
   "outputs": [],
   "source": [
    "from sklearn.model_selection import train_test_split\n",
    "\n",
    "x_train, x_test, y_train, y_test = train_test_split(x, y, test_size = 0.3)"
   ]
  },
  {
   "cell_type": "code",
   "execution_count": 12,
   "metadata": {},
   "outputs": [],
   "source": [
    "from sklearn.preprocessing import StandardScaler\n",
    "\n",
    "scaler = StandardScaler()\n",
    "x_train_scaled = scaler.fit_transform(x_train)\n",
    "x_test_scaled = scaler.transform(x_test)"
   ]
  },
  {
   "cell_type": "code",
   "execution_count": 13,
   "metadata": {},
   "outputs": [
    {
     "name": "stdout",
     "output_type": "stream",
     "text": [
      "0.6107353423378381\n",
      "0.6237310689052717\n"
     ]
    }
   ],
   "source": [
    "from sklearn.linear_model import LinearRegression\n",
    "from sklearn import metrics\n",
    "\n",
    "lr = LinearRegression()\n",
    "lr.fit(x_train_scaled, y_train)\n",
    "print(lr.score(x_train_scaled, y_train))\n",
    "\n",
    "y_pred = lr.predict(x_test_scaled)\n",
    "print(metrics.r2_score(y_test, y_pred))"
   ]
  },
  {
   "cell_type": "code",
   "execution_count": 14,
   "metadata": {},
   "outputs": [
    {
     "name": "stdout",
     "output_type": "stream",
     "text": [
      "0.8533841348552327\n",
      "0.6985803353805147\n"
     ]
    }
   ],
   "source": [
    "from sklearn.neighbors import KNeighborsRegressor\n",
    "\n",
    "knn = KNeighborsRegressor(n_neighbors = 3, metric = \"euclidean\")\n",
    "knn.fit(x_train_scaled, y_train)\n",
    "\n",
    "print(knn.score(x_train_scaled, y_train))\n",
    "\n",
    "y_pred_knn = knn.predict(x_test_scaled)\n",
    "print(metrics.r2_score(y_test, y_pred_knn))"
   ]
  },
  {
   "cell_type": "code",
   "execution_count": 15,
   "metadata": {},
   "outputs": [
    {
     "name": "stdout",
     "output_type": "stream",
     "text": [
      "0.6781776541679558\n",
      "KNeighborsRegressor(metric='euclidean')\n",
      "{'metric': 'euclidean', 'n_neighbors': 5}\n"
     ]
    }
   ],
   "source": [
    "from sklearn.model_selection import GridSearchCV\n",
    "\n",
    "grid_params = {\n",
    "    \"n_neighbors\":[1,2,3,4,5,6,7,8,9,11,13,15,17,19],\n",
    "    \"metric\":[\"euclidean\",\"manhattan\",\"minkowski\"]\n",
    "}\n",
    "\n",
    "gs = GridSearchCV(\n",
    "    KNeighborsRegressor(),\n",
    "    grid_params,\n",
    "    cv = 20\n",
    ")\n",
    "\n",
    "gs_results = gs.fit(x_train_scaled, y_train)\n",
    "\n",
    "print(gs_results.best_score_)\n",
    "print(gs_results.best_estimator_)\n",
    "print(gs_results.best_params_)"
   ]
  },
  {
   "cell_type": "code",
   "execution_count": 16,
   "metadata": {},
   "outputs": [
    {
     "name": "stdout",
     "output_type": "stream",
     "text": [
      "0.9949311356475837\n",
      "0.842729074279811\n"
     ]
    }
   ],
   "source": [
    "from sklearn.tree import DecisionTreeRegressor\n",
    "\n",
    "dt = DecisionTreeRegressor()\n",
    "dt.fit(x_train_scaled, y_train)\n",
    "\n",
    "print(dt.score(x_train_scaled, y_train))\n",
    "\n",
    "y_pred_dt = dt.predict(x_test_scaled)\n",
    "print(metrics.r2_score(y_test, y_pred_dt))"
   ]
  },
  {
   "cell_type": "code",
   "execution_count": 17,
   "metadata": {},
   "outputs": [
    {
     "name": "stdout",
     "output_type": "stream",
     "text": [
      "0.9814711103600926\n",
      "0.9233044891453859\n"
     ]
    }
   ],
   "source": [
    "from sklearn.ensemble import RandomForestRegressor\n",
    "\n",
    "rf = RandomForestRegressor()\n",
    "rf.fit(x_train_scaled, y_train)\n",
    "\n",
    "print(rf.score(x_train_scaled, y_train))\n",
    "\n",
    "y_pred_rf = rf.predict(x_test_scaled)\n",
    "print(metrics.r2_score(y_test, y_pred_rf))"
   ]
  },
  {
   "cell_type": "code",
   "execution_count": 18,
   "metadata": {},
   "outputs": [
    {
     "data": {
      "text/plain": [
       "[<matplotlib.lines.Line2D at 0x11c088fd0>]"
      ]
     },
     "execution_count": 18,
     "metadata": {},
     "output_type": "execute_result"
    },
    {
     "data": {
      "image/png": "[encoded data removed]",
      "text/plain": [
       "<Figure size 432x288 with 1 Axes>"
      ]
     },
     "metadata": {
      "needs_background": "light"
     },
     "output_type": "display_data"
    }
   ],
   "source": [
    "max_depth_range = list(range(1, 20))\n",
    "r2 = []\n",
    "for i in max_depth_range:\n",
    "    rf = RandomForestRegressor(max_depth = i)\n",
    "    rf.fit(x_train_scaled, y_train)\n",
    "    score = rf.score(x_train_scaled, y_train)\n",
    "    r2.append(score)\n",
    "    \n",
    "plt.plot(max_depth_range, r2)"
   ]
  },
  {
   "cell_type": "code",
   "execution_count": 19,
   "metadata": {},
   "outputs": [
    {
     "name": "stdout",
     "output_type": "stream",
     "text": [
      "0.8824137199462895\n",
      "RandomForestRegressor(max_depth=11, n_estimators=250)\n",
      "{'max_depth': 11, 'n_estimators': 250}\n"
     ]
    }
   ],
   "source": [
    "from sklearn.model_selection import GridSearchCV\n",
    "\n",
    "grid_params = {\n",
    "    \"n_estimators\":[10, 50, 90, 100, 150, 200, 250],\n",
    "    \"max_depth\":list(range(5, 12))\n",
    "}\n",
    "\n",
    "gs = GridSearchCV(\n",
    "    RandomForestRegressor(),\n",
    "    grid_params,\n",
    "    cv = 10\n",
    ")\n",
    "\n",
    "gs_results = gs.fit(x_train_scaled, y_train)\n",
    "\n",
    "print(gs_results.best_score_)\n",
    "print(gs_results.best_estimator_)\n",
    "print(gs_results.best_params_)"
   ]
  },
  {
   "cell_type": "code",
   "execution_count": 20,
   "metadata": {},
   "outputs": [
    {
     "name": "stdout",
     "output_type": "stream",
     "text": [
      "0.9817671196536104\n",
      "0.9228073278325835\n"
     ]
    }
   ],
   "source": [
    "from sklearn.ensemble import RandomForestRegressor\n",
    "\n",
    "rf = RandomForestRegressor(n_estimators = 150, max_depth = 20)\n",
    "rf.fit(x_train_scaled, y_train)\n",
    "\n",
    "print(rf.score(x_train_scaled, y_train))\n",
    "\n",
    "y_pred_rf = rf.predict(x_test_scaled)\n",
    "print(metrics.r2_score(y_test, y_pred_rf))"
   ]
  },
  {
   "cell_type": "code",
   "execution_count": 22,
   "metadata": {},
   "outputs": [
    {
     "name": "stdout",
     "output_type": "stream",
     "text": [
      "0.943116175584626\n",
      "0.9207182545015844\n"
     ]
    }
   ],
   "source": [
    "from sklearn.ensemble import GradientBoostingRegressor\n",
    "\n",
    "gbr = GradientBoostingRegressor()\n",
    "gbr.fit(x_train_scaled, y_train)\n",
    "\n",
    "print(gbr.score(x_train_scaled, y_train))\n",
    "\n",
    "y_pred_gbr = gbr.predict(x_test_scaled)\n",
    "print(metrics.r2_score(y_test, y_pred_gbr))"
   ]
  },
  {
   "cell_type": "code",
   "execution_count": 26,
   "metadata": {},
   "outputs": [
    {
     "name": "stdout",
     "output_type": "stream",
     "text": [
      "0.9102873212521637\n",
      "GradientBoostingRegressor(criterion='squared_error', learning_rate=0.15,\n",
      "                          max_depth=4, max_leaf_nodes=7, n_estimators=250,\n",
      "                          subsample=0.8)\n",
      "{'subsample': 0.8, 'n_estimators': 250, 'max_leaf_nodes': 7, 'max_features': None, 'max_depth': 4, 'learning_rate': 0.15, 'criterion': 'squared_error'}\n"
     ]
    }
   ],
   "source": [
    "from sklearn.model_selection import RandomizedSearchCV\n",
    "\n",
    "grid_params = {\n",
    "    'criterion': ['squared_error', 'friedman_mse'], \n",
    "    'learning_rate': [0.05, 0.1, 0.15, 0.2], \n",
    "    'max_depth': [2, 3, 4, 5], \n",
    "    'max_features': ['sqrt', None], \n",
    "    'max_leaf_nodes': list(range(2, 10)),\n",
    "    'n_estimators': list(range(50, 500, 50)),\n",
    "    'subsample': [0.8, 0.9, 1.0]\n",
    "}\n",
    "\n",
    "gs = RandomizedSearchCV(\n",
    "    GradientBoostingRegressor(),\n",
    "    grid_params,\n",
    "    cv = 3\n",
    ")\n",
    "\n",
    "gs_results = gs.fit(x_train_scaled, y_train)\n",
    "\n",
    "print(gs_results.best_score_)\n",
    "print(gs_results.best_estimator_)\n",
    "print(gs_results.best_params_)"
   ]
  },
  {
   "cell_type": "code",
   "execution_count": 27,
   "metadata": {},
   "outputs": [
    {
     "name": "stdout",
     "output_type": "stream",
     "text": [
      "0.98802112182783\n",
      "0.9458851080148076\n"
     ]
    }
   ],
   "source": [
    "gbr = GradientBoostingRegressor(subsample = 0.8, n_estimators = 420, max_leaf_nodes = 7, max_features = None, max_depth = 4, learning_rate = 0.15, criterion = \"squared_error\")\n",
    "gbr.fit(x_train_scaled, y_train)\n",
    "\n",
    "print(gbr.score(x_train_scaled, y_train))\n",
    "\n",
    "y_pred_gbr = gbr.predict(x_test_scaled)\n",
    "print(metrics.r2_score(y_test, y_pred_gbr))"
   ]
  },
  {
   "cell_type": "code",
   "execution_count": null,
   "metadata": {},
   "outputs": [],
   "source": []
  },
  {
   "cell_type": "code",
   "execution_count": null,
   "metadata": {},
   "outputs": [],
   "source": []
  }
 ],
 "metadata": {
  "kernelspec": {
   "display_name": "Python 3",
   "language": "python",
   "name": "python3"
  },
  "language_info": {
   "codemirror_mode": {
    "name": "ipython",
    "version": 3
   },
   "file_extension": ".py",
   "mimetype": "text/x-python",
   "name": "python",
   "nbconvert_exporter": "python",
   "pygments_lexer": "ipython3",
   "version": "3.9.6"
  }
 },
 "nbformat": 4,
 "nbformat_minor": 2
}

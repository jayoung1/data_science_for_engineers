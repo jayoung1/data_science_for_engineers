{
 "cells": [
  {
   "cell_type": "code",
   "execution_count": 63,
   "metadata": {},
   "outputs": [],
   "source": [
    "import pandas as pd\n",
    "import matplotlib.pyplot as plt\n",
    "import numpy as np\n",
    "import seaborn as sns"
   ]
  },
  {
   "cell_type": "code",
   "execution_count": 64,
   "metadata": {},
   "outputs": [],
   "source": [
    "dia_df = pd.read_csv(\"diabetes_new.csv\")"
   ]
  },
  {
   "cell_type": "code",
   "execution_count": 65,
   "metadata": {},
   "outputs": [
    {
     "data": {
      "text/html": [
       "<div>\n",
       "<style scoped>\n",
       "    .dataframe tbody tr th:only-of-type {\n",
       "        vertical-align: middle;\n",
       "    }\n",
       "\n",
       "    .dataframe tbody tr th {\n",
       "        vertical-align: top;\n",
       "    }\n",
       "\n",
       "    .dataframe thead th {\n",
       "        text-align: right;\n",
       "    }\n",
       "</style>\n",
       "<table border=\"1\" class=\"dataframe\">\n",
       "  <thead>\n",
       "    <tr style=\"text-align: right;\">\n",
       "      <th></th>\n",
       "      <th>Pregnancies</th>\n",
       "      <th>Glucose</th>\n",
       "      <th>BloodPressure</th>\n",
       "      <th>SkinThickness</th>\n",
       "      <th>Insulin</th>\n",
       "      <th>BMI</th>\n",
       "      <th>DiabetesPedigreeFunction</th>\n",
       "      <th>Age</th>\n",
       "      <th>Outcome</th>\n",
       "    </tr>\n",
       "  </thead>\n",
       "  <tbody>\n",
       "    <tr>\n",
       "      <th>0</th>\n",
       "      <td>4</td>\n",
       "      <td>110</td>\n",
       "      <td>92</td>\n",
       "      <td>0</td>\n",
       "      <td>0</td>\n",
       "      <td>37.6</td>\n",
       "      <td>0.191</td>\n",
       "      <td>30</td>\n",
       "      <td>0</td>\n",
       "    </tr>\n",
       "    <tr>\n",
       "      <th>1</th>\n",
       "      <td>10</td>\n",
       "      <td>168</td>\n",
       "      <td>74</td>\n",
       "      <td>0</td>\n",
       "      <td>0</td>\n",
       "      <td>38.0</td>\n",
       "      <td>0.537</td>\n",
       "      <td>34</td>\n",
       "      <td>1</td>\n",
       "    </tr>\n",
       "    <tr>\n",
       "      <th>2</th>\n",
       "      <td>10</td>\n",
       "      <td>139</td>\n",
       "      <td>80</td>\n",
       "      <td>0</td>\n",
       "      <td>0</td>\n",
       "      <td>27.1</td>\n",
       "      <td>1.441</td>\n",
       "      <td>57</td>\n",
       "      <td>0</td>\n",
       "    </tr>\n",
       "    <tr>\n",
       "      <th>3</th>\n",
       "      <td>1</td>\n",
       "      <td>189</td>\n",
       "      <td>60</td>\n",
       "      <td>23</td>\n",
       "      <td>846</td>\n",
       "      <td>30.1</td>\n",
       "      <td>0.398</td>\n",
       "      <td>59</td>\n",
       "      <td>1</td>\n",
       "    </tr>\n",
       "    <tr>\n",
       "      <th>4</th>\n",
       "      <td>5</td>\n",
       "      <td>166</td>\n",
       "      <td>72</td>\n",
       "      <td>19</td>\n",
       "      <td>175</td>\n",
       "      <td>25.8</td>\n",
       "      <td>0.587</td>\n",
       "      <td>51</td>\n",
       "      <td>1</td>\n",
       "    </tr>\n",
       "  </tbody>\n",
       "</table>\n",
       "</div>"
      ],
      "text/plain": [
       "   Pregnancies  Glucose  BloodPressure  SkinThickness  Insulin   BMI  \\\n",
       "0            4      110             92              0        0  37.6   \n",
       "1           10      168             74              0        0  38.0   \n",
       "2           10      139             80              0        0  27.1   \n",
       "3            1      189             60             23      846  30.1   \n",
       "4            5      166             72             19      175  25.8   \n",
       "\n",
       "   DiabetesPedigreeFunction  Age  Outcome  \n",
       "0                     0.191   30        0  \n",
       "1                     0.537   34        1  \n",
       "2                     1.441   57        0  \n",
       "3                     0.398   59        1  \n",
       "4                     0.587   51        1  "
      ]
     },
     "execution_count": 65,
     "metadata": {},
     "output_type": "execute_result"
    }
   ],
   "source": [
    "dia_df.head()"
   ]
  },
  {
   "cell_type": "code",
   "execution_count": 66,
   "metadata": {},
   "outputs": [
    {
     "name": "stdout",
     "output_type": "stream",
     "text": [
      "(758, 9)\n"
     ]
    }
   ],
   "source": [
    "print(dia_df.shape)"
   ]
  },
  {
   "cell_type": "code",
   "execution_count": 67,
   "metadata": {},
   "outputs": [
    {
     "data": {
      "text/plain": [
       "Pregnancies                 0\n",
       "Glucose                     0\n",
       "BloodPressure               0\n",
       "SkinThickness               0\n",
       "Insulin                     0\n",
       "BMI                         0\n",
       "DiabetesPedigreeFunction    0\n",
       "Age                         0\n",
       "Outcome                     0\n",
       "dtype: int64"
      ]
     },
     "execution_count": 67,
     "metadata": {},
     "output_type": "execute_result"
    }
   ],
   "source": [
    "dia_df.isna().sum()"
   ]
  },
  {
   "cell_type": "code",
   "execution_count": 68,
   "metadata": {},
   "outputs": [],
   "source": [
    "dia_df[['Insulin','SkinThickness','Glucose','BMI','BloodPressure']] = dia_df[['Insulin','SkinThickness','Glucose','BMI','BloodPressure']].replace(0, np.NaN)\n",
    "#dia_df.dropna(inplace=True)"
   ]
  },
  {
   "cell_type": "code",
   "execution_count": 69,
   "metadata": {},
   "outputs": [],
   "source": [
    "# sns.pairplot(dia_df)"
   ]
  },
  {
   "cell_type": "code",
   "execution_count": 70,
   "metadata": {},
   "outputs": [
    {
     "data": {
      "text/html": [
       "<div>\n",
       "<style scoped>\n",
       "    .dataframe tbody tr th:only-of-type {\n",
       "        vertical-align: middle;\n",
       "    }\n",
       "\n",
       "    .dataframe tbody tr th {\n",
       "        vertical-align: top;\n",
       "    }\n",
       "\n",
       "    .dataframe thead th {\n",
       "        text-align: right;\n",
       "    }\n",
       "</style>\n",
       "<table border=\"1\" class=\"dataframe\">\n",
       "  <thead>\n",
       "    <tr style=\"text-align: right;\">\n",
       "      <th></th>\n",
       "      <th>Pregnancies</th>\n",
       "      <th>Glucose</th>\n",
       "      <th>BloodPressure</th>\n",
       "      <th>SkinThickness</th>\n",
       "      <th>Insulin</th>\n",
       "      <th>BMI</th>\n",
       "      <th>DiabetesPedigreeFunction</th>\n",
       "      <th>Age</th>\n",
       "      <th>Outcome</th>\n",
       "    </tr>\n",
       "  </thead>\n",
       "  <tbody>\n",
       "    <tr>\n",
       "      <th>Pregnancies</th>\n",
       "      <td>1.000000</td>\n",
       "      <td>0.127643</td>\n",
       "      <td>0.147581</td>\n",
       "      <td>-0.072223</td>\n",
       "      <td>-0.066659</td>\n",
       "      <td>0.026350</td>\n",
       "      <td>-0.025851</td>\n",
       "      <td>0.548108</td>\n",
       "      <td>0.223672</td>\n",
       "    </tr>\n",
       "    <tr>\n",
       "      <th>Glucose</th>\n",
       "      <td>0.127643</td>\n",
       "      <td>1.000000</td>\n",
       "      <td>0.154026</td>\n",
       "      <td>0.057084</td>\n",
       "      <td>0.327275</td>\n",
       "      <td>0.227396</td>\n",
       "      <td>0.135845</td>\n",
       "      <td>0.257928</td>\n",
       "      <td>0.464733</td>\n",
       "    </tr>\n",
       "    <tr>\n",
       "      <th>BloodPressure</th>\n",
       "      <td>0.147581</td>\n",
       "      <td>0.154026</td>\n",
       "      <td>1.000000</td>\n",
       "      <td>0.210326</td>\n",
       "      <td>0.090558</td>\n",
       "      <td>0.301029</td>\n",
       "      <td>0.049618</td>\n",
       "      <td>0.237572</td>\n",
       "      <td>0.065059</td>\n",
       "    </tr>\n",
       "    <tr>\n",
       "      <th>SkinThickness</th>\n",
       "      <td>-0.072223</td>\n",
       "      <td>0.057084</td>\n",
       "      <td>0.210326</td>\n",
       "      <td>1.000000</td>\n",
       "      <td>0.433184</td>\n",
       "      <td>0.390775</td>\n",
       "      <td>0.182136</td>\n",
       "      <td>-0.117978</td>\n",
       "      <td>0.071456</td>\n",
       "    </tr>\n",
       "    <tr>\n",
       "      <th>Insulin</th>\n",
       "      <td>-0.066659</td>\n",
       "      <td>0.327275</td>\n",
       "      <td>0.090558</td>\n",
       "      <td>0.433184</td>\n",
       "      <td>1.000000</td>\n",
       "      <td>0.197372</td>\n",
       "      <td>0.189899</td>\n",
       "      <td>-0.049638</td>\n",
       "      <td>0.126453</td>\n",
       "    </tr>\n",
       "    <tr>\n",
       "      <th>BMI</th>\n",
       "      <td>0.026350</td>\n",
       "      <td>0.227396</td>\n",
       "      <td>0.301029</td>\n",
       "      <td>0.390775</td>\n",
       "      <td>0.197372</td>\n",
       "      <td>1.000000</td>\n",
       "      <td>0.130759</td>\n",
       "      <td>0.045409</td>\n",
       "      <td>0.305026</td>\n",
       "    </tr>\n",
       "    <tr>\n",
       "      <th>DiabetesPedigreeFunction</th>\n",
       "      <td>-0.025851</td>\n",
       "      <td>0.135845</td>\n",
       "      <td>0.049618</td>\n",
       "      <td>0.182136</td>\n",
       "      <td>0.189899</td>\n",
       "      <td>0.130759</td>\n",
       "      <td>1.000000</td>\n",
       "      <td>0.035033</td>\n",
       "      <td>0.168728</td>\n",
       "    </tr>\n",
       "    <tr>\n",
       "      <th>Age</th>\n",
       "      <td>0.548108</td>\n",
       "      <td>0.257928</td>\n",
       "      <td>0.237572</td>\n",
       "      <td>-0.117978</td>\n",
       "      <td>-0.049638</td>\n",
       "      <td>0.045409</td>\n",
       "      <td>0.035033</td>\n",
       "      <td>1.000000</td>\n",
       "      <td>0.232704</td>\n",
       "    </tr>\n",
       "    <tr>\n",
       "      <th>Outcome</th>\n",
       "      <td>0.223672</td>\n",
       "      <td>0.464733</td>\n",
       "      <td>0.065059</td>\n",
       "      <td>0.071456</td>\n",
       "      <td>0.126453</td>\n",
       "      <td>0.305026</td>\n",
       "      <td>0.168728</td>\n",
       "      <td>0.232704</td>\n",
       "      <td>1.000000</td>\n",
       "    </tr>\n",
       "  </tbody>\n",
       "</table>\n",
       "</div>"
      ],
      "text/plain": [
       "                          Pregnancies   Glucose  BloodPressure  SkinThickness  \\\n",
       "Pregnancies                  1.000000  0.127643       0.147581      -0.072223   \n",
       "Glucose                      0.127643  1.000000       0.154026       0.057084   \n",
       "BloodPressure                0.147581  0.154026       1.000000       0.210326   \n",
       "SkinThickness               -0.072223  0.057084       0.210326       1.000000   \n",
       "Insulin                     -0.066659  0.327275       0.090558       0.433184   \n",
       "BMI                          0.026350  0.227396       0.301029       0.390775   \n",
       "DiabetesPedigreeFunction    -0.025851  0.135845       0.049618       0.182136   \n",
       "Age                          0.548108  0.257928       0.237572      -0.117978   \n",
       "Outcome                      0.223672  0.464733       0.065059       0.071456   \n",
       "\n",
       "                           Insulin       BMI  DiabetesPedigreeFunction  \\\n",
       "Pregnancies              -0.066659  0.026350                 -0.025851   \n",
       "Glucose                   0.327275  0.227396                  0.135845   \n",
       "BloodPressure             0.090558  0.301029                  0.049618   \n",
       "SkinThickness             0.433184  0.390775                  0.182136   \n",
       "Insulin                   1.000000  0.197372                  0.189899   \n",
       "BMI                       0.197372  1.000000                  0.130759   \n",
       "DiabetesPedigreeFunction  0.189899  0.130759                  1.000000   \n",
       "Age                      -0.049638  0.045409                  0.035033   \n",
       "Outcome                   0.126453  0.305026                  0.168728   \n",
       "\n",
       "                               Age   Outcome  \n",
       "Pregnancies               0.548108  0.223672  \n",
       "Glucose                   0.257928  0.464733  \n",
       "BloodPressure             0.237572  0.065059  \n",
       "SkinThickness            -0.117978  0.071456  \n",
       "Insulin                  -0.049638  0.126453  \n",
       "BMI                       0.045409  0.305026  \n",
       "DiabetesPedigreeFunction  0.035033  0.168728  \n",
       "Age                       1.000000  0.232704  \n",
       "Outcome                   0.232704  1.000000  "
      ]
     },
     "execution_count": 70,
     "metadata": {},
     "output_type": "execute_result"
    }
   ],
   "source": [
    "dia_df.corr()"
   ]
  },
  {
   "cell_type": "code",
   "execution_count": 71,
   "metadata": {},
   "outputs": [],
   "source": [
    "x = dia_df.drop(\"Outcome\",axis = 1)\n",
    "y = dia_df[\"Outcome\"]"
   ]
  },
  {
   "cell_type": "code",
   "execution_count": 72,
   "metadata": {},
   "outputs": [],
   "source": [
    "from sklearn.preprocessing import StandardScaler\n",
    "sc = StandardScaler()\n",
    "x = sc.fit_transform(x)"
   ]
  },
  {
   "cell_type": "code",
   "execution_count": 75,
   "metadata": {},
   "outputs": [
    {
     "data": {
      "text/plain": [
       "array([[ 0.04818885, -0.33934639,  1.18365052, ...,  0.70986375,\n",
       "        -0.86131148, -0.27272174],\n",
       "       [ 1.83000085,  1.48137909,  0.24803105, ...,  0.76101659,\n",
       "         0.20149611,  0.06756316],\n",
       "       [ 1.83000085,  0.57101635,  0.5599042 , ..., -0.6328983 ,\n",
       "         2.97831132,  2.02420132],\n",
       "       ...,\n",
       "       [ 0.34515751,  0.00596362,  0.14407333, ..., -0.74799219,\n",
       "        -0.69543978, -0.27272174],\n",
       "       [-0.84271715,  0.16292271, -0.47967298, ..., -0.249252  ,\n",
       "        -0.37598316,  1.17348908],\n",
       "       [-0.84271715, -0.87300731,  0.04011561, ..., -0.21088737,\n",
       "        -0.4804209 , -0.86822031]])"
      ]
     },
     "execution_count": 75,
     "metadata": {},
     "output_type": "execute_result"
    }
   ],
   "source": [
    "x"
   ]
  },
  {
   "cell_type": "code",
   "execution_count": 100,
   "metadata": {},
   "outputs": [],
   "source": [
    "from sklearn.model_selection import train_test_split\n",
    "\n",
    "x_train, x_test, y_train, y_test = train_test_split(x, y, test_size = 0.25, random_state = 150)"
   ]
  },
  {
   "cell_type": "code",
   "execution_count": 101,
   "metadata": {},
   "outputs": [],
   "source": [
    "from sklearn.linear_model import LogisticRegression\n",
    "\n",
    "log_model1 = LogisticRegression()\n",
    "\n",
    "log_model1.fit(x_train,y_train)\n",
    "\n",
    "y_pred = log_model1.predict(x_test)"
   ]
  },
  {
   "cell_type": "code",
   "execution_count": 102,
   "metadata": {},
   "outputs": [
    {
     "name": "stdout",
     "output_type": "stream",
     "text": [
      "[[106  13]\n",
      " [ 27  44]]\n"
     ]
    }
   ],
   "source": [
    "from sklearn import metrics\n",
    "\n",
    "cm = metrics.confusion_matrix(y_test, y_pred)\n",
    "print(cm)"
   ]
  },
  {
   "cell_type": "code",
   "execution_count": 103,
   "metadata": {},
   "outputs": [
    {
     "name": "stdout",
     "output_type": "stream",
     "text": [
      "Accuracy: 0.7894736842105263\n",
      "Precision: 0.7719298245614035\n",
      "Recall: 0.6197183098591549\n"
     ]
    }
   ],
   "source": [
    "print(\"Accuracy:\",metrics.accuracy_score(y_test, y_pred))\n",
    "print(\"Precision:\",metrics.precision_score(y_test, y_pred))\n",
    "print(\"Recall:\",metrics.recall_score(y_test, y_pred))"
   ]
  },
  {
   "cell_type": "code",
   "execution_count": 80,
   "metadata": {},
   "outputs": [
    {
     "data": {
      "image/png": "[encoded data removed]",
      "text/plain": [
       "<Figure size 432x288 with 1 Axes>"
      ]
     },
     "metadata": {
      "needs_background": "light"
     },
     "output_type": "display_data"
    }
   ],
   "source": [
    "y_pred_probability = log_model1.predict_proba(x_test)[::,1]\n",
    "fpr, tpr, _ = metrics.roc_curve(y_test,  y_pred_probability)\n",
    "auc = metrics.roc_auc_score(y_test, y_pred_probability)\n",
    "plt.plot(fpr,tpr,label=\"data 1, auc=\"+str(auc))\n",
    "plt.legend()\n",
    "plt.plot([0, 1], [0, 1],'r--')\n",
    "plt.xlabel('False Positive Rate')\n",
    "plt.ylabel('True Positive Rate')\n",
    "plt.title('Receiver operating characteristic')\n",
    "plt.show()"
   ]
  },
  {
   "cell_type": "code",
   "execution_count": 92,
   "metadata": {},
   "outputs": [
    {
     "name": "stdout",
     "output_type": "stream",
     "text": [
      "Index(['Pregnancies', 'Glucose', 'BloodPressure', 'SkinThickness', 'Insulin',\n",
      "       'BMI', 'DiabetesPedigreeFunction', 'Age', 'Outcome'],\n",
      "      dtype='object')\n",
      "4\n",
      "[1 1 1 5 3 1 2 4]\n"
     ]
    },
    {
     "name": "stderr",
     "output_type": "stream",
     "text": [
      "/usr/local/lib/python3.9/site-packages/sklearn/utils/validation.py:70: FutureWarning: Pass n_features_to_select=4 as keyword args. From version 1.0 (renaming of 0.25) passing these as positional arguments will result in an error\n",
      "  warnings.warn(f\"Pass {args_msg} as keyword args. From version \"\n"
     ]
    }
   ],
   "source": [
    "from sklearn.feature_selection import RFE\n",
    "\n",
    "rfe = RFE(log_model1, 4)\n",
    "fit = rfe.fit(x_train, y_train)\n",
    "\n",
    "print(dia_df.columns)\n",
    "print(fit.n_features_)\n",
    "print(fit.ranking_)"
   ]
  },
  {
   "cell_type": "code",
   "execution_count": 104,
   "metadata": {},
   "outputs": [
    {
     "name": "stdout",
     "output_type": "stream",
     "text": [
      "[[106  13]\n",
      " [ 27  44]]\n",
      "Accuracy: 0.7842105263157895\n",
      "Precision: 0.75\n",
      "Recall: 0.6338028169014085\n"
     ]
    }
   ],
   "source": [
    "x2 = dia_df[[\"Pregnancies\",\"Glucose\",\"BloodPressure\",\"BMI\"]]\n",
    "y2 = dia_df[\"Outcome\"]\n",
    "\n",
    "x2_train, x2_test, y2_train, y2_test = train_test_split(x2, y2, test_size = 0.25, random_state = 150)\n",
    "\n",
    "log_model2 = LogisticRegression()\n",
    "log_model2.fit(x2_train,y2_train)\n",
    "y2_pred = log_model2.predict(x2_test)\n",
    "\n",
    "cm = metrics.confusion_matrix(y_test, y_pred)\n",
    "print(cm)\n",
    "\n",
    "print(\"Accuracy:\",metrics.accuracy_score(y2_test, y2_pred))\n",
    "print(\"Precision:\",metrics.precision_score(y2_test, y2_pred))\n",
    "print(\"Recall:\",metrics.recall_score(y2_test, y2_pred))"
   ]
  },
  {
   "cell_type": "code",
   "execution_count": null,
   "metadata": {},
   "outputs": [],
   "source": []
  },
  {
   "cell_type": "code",
   "execution_count": 111,
   "metadata": {},
   "outputs": [],
   "source": [
    "dia_test_df = pd.read_csv(\"diabetes_new_patients.csv\")\n",
    "\n",
    "x_new = dia_test_df"
   ]
  },
  {
   "cell_type": "code",
   "execution_count": 112,
   "metadata": {},
   "outputs": [
    {
     "data": {
      "text/plain": [
       "(10, 8)"
      ]
     },
     "execution_count": 112,
     "metadata": {},
     "output_type": "execute_result"
    }
   ],
   "source": [
    "x_new.shape"
   ]
  },
  {
   "cell_type": "code",
   "execution_count": 113,
   "metadata": {},
   "outputs": [],
   "source": [
    "y_new_pred = log_model1.predict(x_new)"
   ]
  },
  {
   "cell_type": "code",
   "execution_count": 114,
   "metadata": {},
   "outputs": [
    {
     "data": {
      "text/plain": [
       "array([1, 1, 1, 1, 1, 1, 1, 1, 1, 1])"
      ]
     },
     "execution_count": 114,
     "metadata": {},
     "output_type": "execute_result"
    }
   ],
   "source": [
    "y_new_pred"
   ]
  },
  {
   "cell_type": "code",
   "execution_count": null,
   "metadata": {},
   "outputs": [],
   "source": []
  },
  {
   "cell_type": "code",
   "execution_count": null,
   "metadata": {},
   "outputs": [],
   "source": []
  },
  {
   "cell_type": "code",
   "execution_count": null,
   "metadata": {},
   "outputs": [],
   "source": []
  }
 ],
 "metadata": {
  "kernelspec": {
   "display_name": "Python 3",
   "language": "python",
   "name": "python3"
  },
  "language_info": {
   "codemirror_mode": {
    "name": "ipython",
    "version": 3
   },
   "file_extension": ".py",
   "mimetype": "text/x-python",
   "name": "python",
   "nbconvert_exporter": "python",
   "pygments_lexer": "ipython3",
   "version": "3.9.6"
  }
 },
 "nbformat": 4,
 "nbformat_minor": 2
}
